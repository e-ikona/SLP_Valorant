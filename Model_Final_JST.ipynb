{
 "cells": [
  {
   "cell_type": "code",
   "execution_count": 43,
   "metadata": {
    "id": "bS-IYwIStU9Z"
   },
   "outputs": [],
   "source": [
    "import numpy as np\n",
    "import pandas as pd\n",
    "import matplotlib.pyplot as plt\n",
    "import seaborn as sns\n",
    "from sklearn.model_selection import train_test_split\n",
    "from sklearn.preprocessing import LabelEncoder"
   ]
  },
  {
   "cell_type": "code",
   "execution_count": 44,
   "metadata": {
    "colab": {
     "base_uri": "https://localhost:8080/",
     "height": 206
    },
    "id": "Zl3Q0hz0uqgw",
    "outputId": "f800a672-a568-4e2e-f2df-58df2fa6e7c6"
   },
   "outputs": [
    {
     "data": {
      "text/html": [
       "<div>\n",
       "<style scoped>\n",
       "    .dataframe tbody tr th:only-of-type {\n",
       "        vertical-align: middle;\n",
       "    }\n",
       "\n",
       "    .dataframe tbody tr th {\n",
       "        vertical-align: top;\n",
       "    }\n",
       "\n",
       "    .dataframe thead th {\n",
       "        text-align: right;\n",
       "    }\n",
       "</style>\n",
       "<table border=\"1\" class=\"dataframe\">\n",
       "  <thead>\n",
       "    <tr style=\"text-align: right;\">\n",
       "      <th></th>\n",
       "      <th>game_id</th>\n",
       "      <th>episode</th>\n",
       "      <th>act</th>\n",
       "      <th>rank</th>\n",
       "      <th>date</th>\n",
       "      <th>agent</th>\n",
       "      <th>map</th>\n",
       "      <th>outcome</th>\n",
       "      <th>round_wins</th>\n",
       "      <th>round_losses</th>\n",
       "      <th>kills</th>\n",
       "      <th>deaths</th>\n",
       "      <th>assists</th>\n",
       "      <th>kdr</th>\n",
       "      <th>avg_dmg_delta</th>\n",
       "      <th>headshot_pct</th>\n",
       "      <th>avg_dmg</th>\n",
       "      <th>acs</th>\n",
       "      <th>num_frag</th>\n",
       "    </tr>\n",
       "  </thead>\n",
       "  <tbody>\n",
       "    <tr>\n",
       "      <th>0</th>\n",
       "      <td>1</td>\n",
       "      <td>6</td>\n",
       "      <td>2</td>\n",
       "      <td>Placement</td>\n",
       "      <td>04/11/2023</td>\n",
       "      <td>Cypher</td>\n",
       "      <td>Ascent</td>\n",
       "      <td>Loss</td>\n",
       "      <td>5</td>\n",
       "      <td>13</td>\n",
       "      <td>8</td>\n",
       "      <td>15</td>\n",
       "      <td>4</td>\n",
       "      <td>0.5</td>\n",
       "      <td>-61</td>\n",
       "      <td>3</td>\n",
       "      <td>76</td>\n",
       "      <td>125</td>\n",
       "      <td>3</td>\n",
       "    </tr>\n",
       "    <tr>\n",
       "      <th>1</th>\n",
       "      <td>2</td>\n",
       "      <td>6</td>\n",
       "      <td>2</td>\n",
       "      <td>Placement</td>\n",
       "      <td>04/12/2023</td>\n",
       "      <td>Cypher</td>\n",
       "      <td>Icebox</td>\n",
       "      <td>Loss</td>\n",
       "      <td>4</td>\n",
       "      <td>13</td>\n",
       "      <td>3</td>\n",
       "      <td>15</td>\n",
       "      <td>2</td>\n",
       "      <td>0.2</td>\n",
       "      <td>-124</td>\n",
       "      <td>22</td>\n",
       "      <td>42</td>\n",
       "      <td>59</td>\n",
       "      <td>5</td>\n",
       "    </tr>\n",
       "    <tr>\n",
       "      <th>2</th>\n",
       "      <td>3</td>\n",
       "      <td>6</td>\n",
       "      <td>2</td>\n",
       "      <td>Placement</td>\n",
       "      <td>4/15/2023</td>\n",
       "      <td>KAY/O</td>\n",
       "      <td>Lotus</td>\n",
       "      <td>Win</td>\n",
       "      <td>13</td>\n",
       "      <td>4</td>\n",
       "      <td>7</td>\n",
       "      <td>12</td>\n",
       "      <td>7</td>\n",
       "      <td>0.6</td>\n",
       "      <td>-46</td>\n",
       "      <td>2</td>\n",
       "      <td>87</td>\n",
       "      <td>132</td>\n",
       "      <td>5</td>\n",
       "    </tr>\n",
       "    <tr>\n",
       "      <th>3</th>\n",
       "      <td>4</td>\n",
       "      <td>6</td>\n",
       "      <td>2</td>\n",
       "      <td>Placement</td>\n",
       "      <td>4/15/2023</td>\n",
       "      <td>Brimstone</td>\n",
       "      <td>Ascent</td>\n",
       "      <td>Loss</td>\n",
       "      <td>9</td>\n",
       "      <td>13</td>\n",
       "      <td>18</td>\n",
       "      <td>12</td>\n",
       "      <td>10</td>\n",
       "      <td>1.5</td>\n",
       "      <td>23</td>\n",
       "      <td>14</td>\n",
       "      <td>137</td>\n",
       "      <td>230</td>\n",
       "      <td>2</td>\n",
       "    </tr>\n",
       "    <tr>\n",
       "      <th>4</th>\n",
       "      <td>5</td>\n",
       "      <td>6</td>\n",
       "      <td>2</td>\n",
       "      <td>Placement</td>\n",
       "      <td>4/15/2023</td>\n",
       "      <td>Cypher</td>\n",
       "      <td>Haven</td>\n",
       "      <td>Loss</td>\n",
       "      <td>1</td>\n",
       "      <td>13</td>\n",
       "      <td>6</td>\n",
       "      <td>14</td>\n",
       "      <td>3</td>\n",
       "      <td>0.4</td>\n",
       "      <td>-75</td>\n",
       "      <td>7</td>\n",
       "      <td>90</td>\n",
       "      <td>146</td>\n",
       "      <td>4</td>\n",
       "    </tr>\n",
       "  </tbody>\n",
       "</table>\n",
       "</div>"
      ],
      "text/plain": [
       "   game_id  episode  act       rank        date      agent     map outcome  \\\n",
       "0        1        6    2  Placement  04/11/2023     Cypher  Ascent    Loss   \n",
       "1        2        6    2  Placement  04/12/2023     Cypher  Icebox    Loss   \n",
       "2        3        6    2  Placement   4/15/2023      KAY/O   Lotus     Win   \n",
       "3        4        6    2  Placement   4/15/2023  Brimstone  Ascent    Loss   \n",
       "4        5        6    2  Placement   4/15/2023     Cypher   Haven    Loss   \n",
       "\n",
       "   round_wins  round_losses  kills  deaths  assists  kdr  avg_dmg_delta  \\\n",
       "0           5            13      8      15        4  0.5            -61   \n",
       "1           4            13      3      15        2  0.2           -124   \n",
       "2          13             4      7      12        7  0.6            -46   \n",
       "3           9            13     18      12       10  1.5             23   \n",
       "4           1            13      6      14        3  0.4            -75   \n",
       "\n",
       "   headshot_pct  avg_dmg  acs  num_frag  \n",
       "0             3       76  125         3  \n",
       "1            22       42   59         5  \n",
       "2             2       87  132         5  \n",
       "3            14      137  230         2  \n",
       "4             7       90  146         4  "
      ]
     },
     "execution_count": 44,
     "metadata": {},
     "output_type": "execute_result"
    }
   ],
   "source": [
    "dataset = pd.read_csv('valorant_match_clsfc.csv')\n",
    "dataset.head()"
   ]
  },
  {
   "cell_type": "code",
   "execution_count": 45,
   "metadata": {
    "colab": {
     "base_uri": "https://localhost:8080/"
    },
    "id": "CMSj2Yo3vEdI",
    "outputId": "b2dc9778-3cb5-40e8-8471-f6a2f5d82eca"
   },
   "outputs": [
    {
     "name": "stdout",
     "output_type": "stream",
     "text": [
      "<class 'pandas.core.frame.DataFrame'>\n",
      "RangeIndex: 1000 entries, 0 to 999\n",
      "Data columns (total 19 columns):\n",
      " #   Column         Non-Null Count  Dtype  \n",
      "---  ------         --------------  -----  \n",
      " 0   game_id        1000 non-null   int64  \n",
      " 1   episode        1000 non-null   int64  \n",
      " 2   act            1000 non-null   int64  \n",
      " 3   rank           1000 non-null   object \n",
      " 4   date           1000 non-null   object \n",
      " 5   agent          1000 non-null   object \n",
      " 6   map            1000 non-null   object \n",
      " 7   outcome        1000 non-null   object \n",
      " 8   round_wins     1000 non-null   int64  \n",
      " 9   round_losses   1000 non-null   int64  \n",
      " 10  kills          1000 non-null   int64  \n",
      " 11  deaths         1000 non-null   int64  \n",
      " 12  assists        1000 non-null   int64  \n",
      " 13  kdr            1000 non-null   float64\n",
      " 14  avg_dmg_delta  1000 non-null   int64  \n",
      " 15  headshot_pct   1000 non-null   int64  \n",
      " 16  avg_dmg        1000 non-null   int64  \n",
      " 17  acs            1000 non-null   int64  \n",
      " 18  num_frag       1000 non-null   int64  \n",
      "dtypes: float64(1), int64(13), object(5)\n",
      "memory usage: 148.6+ KB\n"
     ]
    }
   ],
   "source": [
    "dataset.info()"
   ]
  },
  {
   "cell_type": "code",
   "execution_count": 46,
   "metadata": {
    "colab": {
     "base_uri": "https://localhost:8080/",
     "height": 697
    },
    "id": "DmLfipQ4vQIb",
    "outputId": "5acc95d4-ee1d-4059-f7aa-9b91667b19b7"
   },
   "outputs": [
    {
     "name": "stdout",
     "output_type": "stream",
     "text": [
      "missing value :\n"
     ]
    },
    {
     "data": {
      "text/plain": [
       "game_id          0\n",
       "episode          0\n",
       "act              0\n",
       "rank             0\n",
       "date             0\n",
       "agent            0\n",
       "map              0\n",
       "outcome          0\n",
       "round_wins       0\n",
       "round_losses     0\n",
       "kills            0\n",
       "deaths           0\n",
       "assists          0\n",
       "kdr              0\n",
       "avg_dmg_delta    0\n",
       "headshot_pct     0\n",
       "avg_dmg          0\n",
       "acs              0\n",
       "num_frag         0\n",
       "dtype: int64"
      ]
     },
     "execution_count": 46,
     "metadata": {},
     "output_type": "execute_result"
    }
   ],
   "source": [
    "print(\"missing value :\")\n",
    "dataset.isnull().sum()"
   ]
  },
  {
   "cell_type": "code",
   "execution_count": 47,
   "metadata": {
    "colab": {
     "base_uri": "https://localhost:8080/",
     "height": 476
    },
    "id": "x94ONhq9vUjk",
    "outputId": "7e3358d9-b118-482e-a88c-913f672c0555"
   },
   "outputs": [
    {
     "name": "stdout",
     "output_type": "stream",
     "text": [
      "duplikat data : \n"
     ]
    },
    {
     "data": {
      "text/plain": [
       "0      False\n",
       "1      False\n",
       "2      False\n",
       "3      False\n",
       "4      False\n",
       "       ...  \n",
       "995    False\n",
       "996    False\n",
       "997    False\n",
       "998    False\n",
       "999    False\n",
       "Length: 1000, dtype: bool"
      ]
     },
     "execution_count": 47,
     "metadata": {},
     "output_type": "execute_result"
    }
   ],
   "source": [
    "print(\"duplikat data : \")\n",
    "dataset.duplicated()"
   ]
  },
  {
   "cell_type": "code",
   "execution_count": null,
   "metadata": {
    "colab": {
     "base_uri": "https://localhost:8080/"
    },
    "id": "fGRsayf2upeW",
    "outputId": "17a66048-6fa3-486b-f1eb-fa8edbaa2b22"
   },
   "outputs": [
    {
     "name": "stdout",
     "output_type": "stream",
     "text": [
      "Perceptron Accuracy: 0.49666666666666665\n",
      "Perceptron Training Accuracy: 0.5014285714285714\n"
     ]
    }
   ],
   "source": [
    "def unit_step_func(x):\n",
    "    return np.where(x > 0, 1, 0)\n",
    "\n",
    "def sigmoid(x):\n",
    "    return 1 / (1 + np.exp(-x))\n",
    "\n",
    "def tanh(x):\n",
    "    return np.tanh(x)\n",
    "\n",
    "class Perceptron:\n",
    "    def __init__(self, learning_rate=0.01, n_iters=50):\n",
    "        self.lr = learning_rate\n",
    "        self.n_iters = n_iters\n",
    "        self.activation_func = sigmoid\n",
    "        self.weights = None\n",
    "        self.bias = None\n",
    "\n",
    "    def fit(self, X, y):\n",
    "        n_samples, n_features = X.shape\n",
    "        self.weights = np.zeros(n_features)\n",
    "        self.bias = 0\n",
    "        #delete\n",
    "\n",
    "        for _ in range(self.n_iters):\n",
    "            for idx, x_i in enumerate(X):\n",
    "                linear_output = np.dot(x_i, self.weights) + self.bias\n",
    "                y_predicted = self.activation_func(linear_output)\n",
    "\n",
    "                error = y[idx] - y_predicted\n",
    "                gradient = 1 - y_predicted**2  #tanh\n",
    "                gradient = y_predicted * (1 - y_predicted) #sigmoid\n",
    "                update = self.lr * error * gradient\n",
    "                self.weights += update * x_i\n",
    "                self.bias += update\n",
    "\n",
    "    def predict(self, X):\n",
    "        linear_output = np.dot(X, self.weights) + self.bias\n",
    "        y_predicted = self.activation_func(linear_output)\n",
    "        return np.where(y_predicted >= 0.5, 1, 0) #sigmoid\n",
    "        return np.where(y_predicted >= 0, 1, 0) #tanh\n",
    "\n",
    "dataset['outcome'] = LabelEncoder().fit_transform(dataset['outcome'])\n",
    "\n",
    "X = dataset[['round_wins', 'round_losses', 'kills', 'deaths', 'assists', 'kdr', 'avg_dmg', 'acs', 'headshot_pct']]\n",
    "y = dataset['outcome']\n",
    "\n",
    "X_train, X_test, y_train, y_test = train_test_split(X, y, test_size=0.3, random_state=42)\n",
    "\n",
    "p = Perceptron(learning_rate=0.01, n_iters=50)\n",
    "p.fit(X_train.values, y_train.values)\n",
    "\n",
    "predictions = p.predict(X_test.values)\n",
    "accuracy = np.sum(y_test.values == predictions) / len(y_test.values)\n",
    "print(\"Perceptron Accuracy:\", accuracy)\n",
    "\n",
    "train_predictions = p.predict(X_train.values)\n",
    "train_accuracy = np.sum(y_train.values == train_predictions) / len(y_train.values)\n",
    "print(\"Perceptron Training Accuracy:\", train_accuracy)\n",
    "\n",
    "data_sizes = [len(X_train), len(X_test)]\n",
    "labels = ['Train Data (70%)', 'Test Data (30%)']\n",
    "\n",
    "\n"
   ]
  },
  {
   "cell_type": "code",
   "execution_count": 49,
   "metadata": {
    "colab": {
     "base_uri": "https://localhost:8080/",
     "height": 487
    },
    "id": "_Nrt2NIeQMmx",
    "outputId": "434567a2-bbc6-470b-f327-49e5cb68f3c6"
   },
   "outputs": [
    {
     "data": {
      "image/png": "[encoded data removed]",
      "text/plain": [
       "<Figure size 800x500 with 1 Axes>"
      ]
     },
     "metadata": {},
     "output_type": "display_data"
    }
   ],
   "source": [
    "data_sizes = [len(X_train), len(X_test)]\n",
    "total_data = sum(data_sizes)\n",
    "percentages = [size / total_data * 100 for size in data_sizes]\n",
    "labels = ['Training Data', 'Test Data']\n",
    "\n",
    "plt.figure(figsize=(8, 5))\n",
    "bars = plt.bar(labels, data_sizes, color=['blue', 'orange'], alpha=0.8)\n",
    "plt.title('Proportion of Training and Test Data')\n",
    "plt.ylabel('Number of Data Points')\n",
    "plt.xlabel('Dataset')\n",
    "plt.ylim(0, 1000)\n",
    "\n",
    "for bar, percentage, size in zip(bars, percentages, data_sizes):\n",
    "    plt.text(\n",
    "        bar.get_x() + bar.get_width() / 2,\n",
    "        bar.get_height() / 2,\n",
    "        f\"{percentage:.2f}%\\n({size})\",\n",
    "        ha='center', va='center', fontsize=12, color='white'\n",
    "    )\n",
    "\n",
    "plt.show()"
   ]
  },
  {
   "cell_type": "code",
   "execution_count": 50,
   "metadata": {},
   "outputs": [
    {
     "name": "stderr",
     "output_type": "stream",
     "text": [
      "C:\\Users\\ASUS\\AppData\\Local\\Temp\\ipykernel_19136\\796743748.py:4: FutureWarning: \n",
      "\n",
      "Passing `palette` without assigning `hue` is deprecated and will be removed in v0.14.0. Assign the `x` variable to `hue` and set `legend=False` for the same effect.\n",
      "\n",
      "  sns.countplot(x=y_train, ax=ax[0], palette=\"pastel\")\n",
      "C:\\Users\\ASUS\\AppData\\Local\\Temp\\ipykernel_19136\\796743748.py:14: FutureWarning: \n",
      "\n",
      "Passing `palette` without assigning `hue` is deprecated and will be removed in v0.14.0. Assign the `x` variable to `hue` and set `legend=False` for the same effect.\n",
      "\n",
      "  sns.countplot(x=y_test, ax=ax[1], palette=\"pastel\")\n"
     ]
    },
    {
     "data": {
      "image/png": "[encoded data removed]",
      "text/plain": [
       "<Figure size 800x400 with 2 Axes>"
      ]
     },
     "metadata": {},
     "output_type": "display_data"
    }
   ],
   "source": [
    "def plot_data_distribution(y_train, y_test):\n",
    "  fig, ax = plt.subplots(1, 2, figsize=(8, 4))\n",
    "\n",
    "  sns.countplot(x=y_train, ax=ax[0], palette=\"pastel\")\n",
    "  ax[0].set_title(\"Training Data Distribution\", fontsize=14, fontweight='bold')\n",
    "  ax[0].set_xlabel(\"Outcome (0 = Loss, 1 = Win)\", fontsize=12)\n",
    "  ax[0].set_ylabel(\"Count\", fontsize=12)\n",
    "\n",
    "  for p in ax[0].patches:\n",
    "    height = p.get_height()\n",
    "    ax[0].text(p.get_x() + p.get_width() / 2., height + 3,\n",
    "               f'{int(height)}', ha=\"center\", fontsize=10, color=\"black\")\n",
    "\n",
    "  sns.countplot(x=y_test, ax=ax[1], palette=\"pastel\")\n",
    "  ax[1].set_title(\"Test Data Distribution\", fontsize=14, fontweight='bold')\n",
    "  ax[1].set_xlabel(\"Outcome (0 = Loss, 1 = Win)\", fontsize=12)\n",
    "  ax[1].set_ylabel(\"Count\", fontsize=12)\n",
    "\n",
    "  for p in ax[1].patches:\n",
    "    height = p.get_height()\n",
    "    ax[1].text(p.get_x() + p.get_width() / 2., height + 3,\n",
    "               f'{int(height)}', ha=\"center\", fontsize=10, color=\"black\")\n",
    "\n",
    "  sns.despine()\n",
    "  plt.tight_layout()\n",
    "  plt.show()\n",
    "\n",
    "plot_data_distribution(y_train, y_test)"
   ]
  }
 ],
 "metadata": {
  "colab": {
   "provenance": []
  },
  "kernelspec": {
   "display_name": "Python 3",
   "name": "python3"
  },
  "language_info": {
   "codemirror_mode": {
    "name": "ipython",
    "version": 3
   },
   "file_extension": ".py",
   "mimetype": "text/x-python",
   "name": "python",
   "nbconvert_exporter": "python",
   "pygments_lexer": "ipython3",
   "version": "3.10.7"
  }
 },
 "nbformat": 4,
 "nbformat_minor": 0
}
